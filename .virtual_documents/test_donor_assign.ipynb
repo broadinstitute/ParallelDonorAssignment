


%load_ext autoreload
%autoreload 2



!pip install line_profiler











import os
output_dir = 'data'
if not os.path.exists(output_dir):
    os.mkdir(output_dir)


BAM_PATH = "gs://nnfc-hgrm-output/10x-scRNA/2021-jones-villages/20230612-cellranger/hep_D2_CIRM12_1/outs/possorted_genome_bam.bam"
region = "chr1:0-20267008 bytes:3189-1303195899"
chrom_region, file_region = region.split(' bytes:')
VCF_PATH = "gs://landerlab-vcfs/village_WGS_vcfs/merged_WGS_spikeins.vcf.gz"
end_pos = int(chrom_region.split('-')[-1])


! chmod +x load_test_data.sh


! ./load_test_data.sh $VCF_PATH $BAM_PATH $file_region "chr1" 20267008 $output_dir





! python -u donor_assignment/count_reads_on_variants.py data/region.bam data/region.vcf.gz  "--umi-tag=UB"


! gunzip -c results.tsv.gz | wc -l





donor_list_file="gs://landerlab-vcfs/village_WGS_vcfs/donor_list.txt"
likelihood_method="our_method"
whitelist="gs://nnfc-hgrm-output/10x-scRNA/2021-jones-villages/20230612-cellranger/hep_D2_CIRM12_1/outs/filtered_feature_bc_matrix/barcodes.tsv.gz"


chrom_region


! gsutil cp $donor_list_file .


import pandas as pd
df = pd.DataFrame([[(0.01**2) * (0.99**2), (0.01**2) * (0.99**2), 0.5**4], [0.01**4, 0.99**4, 0.5**4]])
test_df = pd.DataFrame([[1, 1], [1, 1]])
df


df[1].values.reshape(-1, 1)


df[1].values.reshape(-1, 1) * test_df


! python3 -u donor_assignment/likelihood_per_region.py results.tsv.gz "donor_list.txt" data/region.vcf.gz $chrom_region $likelihood_method $whitelist



! gunzip -c results.tsv.gz | head -n1000 > head.results.tsv
! gzip head.results.tsv


! kernprof -l donor_assignment/likelihood_per_region.py results.tsv.gz "donor_list.txt" region.vcf.gz $chrom_region $likelihood_method $whitelist


! python -m line_profiler "likelihood_per_region.py.lprof"


! kernprof -l donor_assignment/likelihood_per_region.py results.tsv.gz "donor_list.txt" region.vcf.gz $chrom_region 'dropulation' $whitelist

